{
 "cells": [
  {
   "cell_type": "markdown",
   "metadata": {},
   "source": [
    "# Load libraries"
   ]
  },
  {
   "cell_type": "code",
   "execution_count": null,
   "metadata": {},
   "outputs": [],
   "source": [
    "import pandas as pd\n",
    "from io import StringIO\n",
    "import plotly.express as px\n"
   ]
  },
  {
   "cell_type": "markdown",
   "metadata": {},
   "source": [
    "# Import raw data"
   ]
  },
  {
   "cell_type": "code",
   "execution_count": null,
   "metadata": {},
   "outputs": [],
   "source": [
    "data = \"\"\"\n",
    ",Sample_1,Sample_2,Sample_3,Sample_4,Sample_5,Sample_6\n",
    "OTU_1,5,15,6,10,5,8\n",
    "OTU_2,5,2,4,9,9,0\n",
    "OTU_3,40,0,0,0,0,0\n",
    "OTU_4,5,6,9,5,4,7\n",
    "OTU_5,0,0,0,0,0,70\n",
    "OTU_6,12,0,6,5,4,0\n",
    "OTU_7,0,50,0,0,0,0\n",
    "OTU_8,13,0,5,11,4,5\n",
    "OTU_9,0,0,42,0,0,0\n",
    "OTU_10,9,2,8,8,2,2\n",
    "OTU_11,4,0,6,6,6,3\n",
    "OTU_12,1,21,10,0,3,0\n",
    "OTU_13,0,0,0,42,0,0\n",
    "OTU_14,0,0,0,0,60,0\n",
    "OTU_15,6,4,4,4,3,5\n",
    "\"\"\"\n",
    "\n",
    "\n",
    "df = pd.read_csv(StringIO(data), index_col=0)\n",
    "df"
   ]
  },
  {
   "cell_type": "markdown",
   "metadata": {},
   "source": [
    "# Reformat data from wide to long"
   ]
  },
  {
   "cell_type": "code",
   "execution_count": null,
   "metadata": {},
   "outputs": [],
   "source": [
    "df_long = df.reset_index().melt(id_vars='index', var_name='sample', value_name='abundance').rename(columns={'index': 'otu'})\n",
    "df_long"
   ]
  },
  {
   "cell_type": "markdown",
   "metadata": {},
   "source": [
    "# Make OTU abundance graph"
   ]
  },
  {
   "cell_type": "code",
   "execution_count": null,
   "metadata": {},
   "outputs": [],
   "source": [
    "px.defaults.template = 'plotly_white'\n",
    "fig = px.bar(df_long, \n",
    "             x='sample', \n",
    "             y='abundance', \n",
    "             color='otu', \n",
    "             labels={'abundance': 'Abundance', 'sample': 'Sample ID', 'otu': 'OTU ID'}, \n",
    "             color_discrete_sequence= ['#808080', '#ffb8a0', '#ff2929', '#93000a', '#b9f2a9', \n",
    "                                       '#00b11f', '#00831c', '#b0cff3', '#6598e0', '#0a4ca4', \n",
    "                                       '#FFE876', '#ff6200', '#c7401c', '#e9caff', '#b041ff', \n",
    "                                       '#561798', '#ee92b1', '#e45384', '#8a163d', '#feac76', \n",
    "                                       '#923b01', '#763001'])\n",
    "fig.show()"
   ]
  }
 ],
 "metadata": {
  "kernelspec": {
   "display_name": "all_python_analysis",
   "language": "python",
   "name": "python3"
  },
  "language_info": {
   "codemirror_mode": {
    "name": "ipython",
    "version": 3
   },
   "file_extension": ".py",
   "mimetype": "text/x-python",
   "name": "python",
   "nbconvert_exporter": "python",
   "pygments_lexer": "ipython3",
   "version": "3.10.13"
  }
 },
 "nbformat": 4,
 "nbformat_minor": 2
}
